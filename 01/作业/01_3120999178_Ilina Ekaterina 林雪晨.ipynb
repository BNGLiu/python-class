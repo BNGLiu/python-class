>>> variable = "Hello World!"
>>> print (variable)
Hello World!
>>> variable.upper ( )
'HELLO WORLD!'
>>> variable.lower ( )
'hello world!'
>>> variable.count ("l")
3
>>> variable.find ("!")
11
>>> variable.replace ("!", "?")
'Hello World?'
>>> variable = "101"
>>> print (variable)
101
>>> miles=1000
>>> miles
1000
>>> a = b = c = 1
>>> a
1
>>> b
1
>>> c
1
>>> print ("Hens", 25 + 30 / 6)
Hens 30.0
>>> 10 + 2 + 1 + 7 - 1 + 4 / 3
20.333333333333332
>>> print ("Is it grater?", 5 > 2)
Is it grater? True
>>> 3 > 3
False
>>> 7 > 6
True
>>> 4 + 2 > 7 + 3
False
>>> a, b = 40, 10
>>> c = a + b
>>> c
50
>>> a = 20
>>> b = 10
>>> c = 15
>>> d = 5
>>> e = 0
>>> e = (a + b) * c / d # (30 * 15) /5
>>> print (" (a + b) * c / d caculate result is:", e)
(a + b) * c / d caculate result is: 90.0
>>> my_name = "kate"
>>> print (f"lets's talk about {my_name}")
lets's talk about kate
>>> my_age = "23"
>>> print (f"lets talk about {my_age}")
lets talk about 23
>>> hilarious = False
>>> joke_evaluation = "isnt that joke so funny?!{}"
>>> print(joke_evaluation.format(hilarious))
isnt that joke so funny?!False
>>> w = "This is the left side of..."
>>> e = "a string with a right side."
>>> print ( w + e)
This is the left side of...a string with a right side.
>>> a = "The whole world is theater..."
>>> b = "and people in it the actors"
>>> print ( a + b)
The whole world is theater...and people in it the actors
>>> formatter = "{} {} {} {}"
>>> print(formatter.format(1,2,3,4))
1 2 3 4
>>> print(formatter.format(formatter,formatter,formatter,formatter))
{} {} {} {} {} {} {} {} {} {} {} {} {} {} {} {}
>>> days="Monday Tuesday Wednesday Thursday Friday Saturday Sunday"
>>> months = "Jan\nFeb\nMar\nApr\nMay\nJun\nJul\nAug"
>>> print("Here are the days: ", days)
Here are the days:  Monday Tuesday Wednesday Thursday Friday Saturday Sunday
>>> print("Here are the months: ", months)
Here are the months:  Jan
Feb
Mar
Apr
May
Jun
Jul
Aug
>>> print("""There's something going on here.
... With the three double-quotes.
... We'll be able to type as much as we like.
... Even 4 lines if we want, or 5, or 6.
... """)
There's something going on here.
With the three double-quotes.
We'll be able to type as much as we like.
Even 4 lines if we want, or 5, or 6.

>>> black_cat = "\tI'm a black cat."
>>> gray_wolf ="I'm the king\nof a forest."
>>> big_panda = "I'm \\ a \\ bear."
>>> great_eagle = """
... I'll do a list:
... \t* Fishies
... \t* Wild nature
... \t* Catnip\n\t* Grass
... """
>>> print (black_cat)
        I'm a black cat.
>>> print (gray_wolf)
I'm the king
of a forest.
>>> print (big_panda)
I'm \ a \ bear.
>>> print (great_eagle)

I'll do a list:
        * Fishies
        * Wild nature
        * Catnip
        * Grass

>>> print("How old are you?", end=' ')
How old are you? >>> age=input()
print("How tall are you?", end=' ')
>>> height = input()
print("How much do you weigh?", end=' ')
>>> weight = input()
print(f"So, you're {age} old, {height} tall and {weight} heavy.")
>>> age = input ("How old are you?")
How old are you?
>>> height = input("How tall are you? ")
How tall are you?
>>> weight = input("How much do you weigh? ")
How much do you weigh?
>>> print(f"So, you're {age} old, {height} tall and {weight} heavy.")
So, you're  old,  tall and  heavy.
>>> age=input("how old are you? ")
how old are you?
>>> height=input("how tall are you? ")
how tall are you?
>>> print (f"So, you're {20} years old, {169}m tall.")
So, you're 20 years old, 169m tall.
>>> counter = 100
>>> miles   = 1000.0
>>> name    = "runoob"
>>> counter
100
>>> miles
1000.0
>>> name
'runoob'
>>> counter = 300
>>> miles = 3879.0
>>> name = "ammyn"
>>> counter
300
>>> miles
3879.0
>>> name
'ammyn'
>>> print ("Ann", 30 + 7 / 2)
Ann 33.5
>>> print ("Is it less?", 4 < 5)
Is it less? True
>>> 3 < 8
True
>>> 4 < 3
False
>>> my_name = 'Ammy F. Linn'
>>> my_age = 35 # not a lie
>>> my_height = 64 # inches
>>> my_weight = 180 # lbs
>>> my_eyes = 'blue'
>>> my_teeth = 'White'
>>> my_hair = 'Black'
>>> print(f"Let's talk about {my_name}.")
Let's talk about Ammy F. Linn.
>>> print(f"She's{my_height} inches tall.")
She's64 inches tall.
>>> print(f"She's {my_weight} pounds heavy.")
She's 180 pounds heavy.
>>> print("Actually that's not too heavy.")
Actually that's not too heavy.
>>> print(f"She's got {my_eyes} eyes and {my_hair} hair.")
She's got blue eyes and Black hair.
>>> print(f"Her teeth are usually {my_teeth} depending on the hygiene.")
Her teeth are usually White depending on the hygiene.
>>> total = my_age + my_height + my_weight
>>> print(f"If I add {my_age}, {my_height}, and {my_weight} I get {total}.")
If I add 35, 64, and 180 I get 279.
>>> types_of_people = 20
>>> x = f"There are {types_of_people} types of people."
>>> binary = "binary"
>>> do_not = "don't"
>>> y = f"Those who know {binary} and those who {do_not}."
>>> print(x)
There are 20 types of people.
>>> print(y)
Those who know binary and those who don't.
>>> print(f"I said: {x}")
I said: There are 20 types of people.
>>> print(f"I also said: '{y}'")
I also said: 'Those who know binary and those who don't.'
>>> print ("John liked to take care of the flowers.")
John liked to take care of the flowers.
>>> print ("His favorite flower was hydrangea.")
His favorite flower was hydrangea.
>>> print ("The hydrangea was blue, and he had brought it from Japan.")
The hydrangea was blue, and he had brought it from Japan.
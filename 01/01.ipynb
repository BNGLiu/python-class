{
 "cells": [
  {
   "cell_type": "markdown",
   "metadata": {
    "pycharm": {
     "name": "#%% md\n"
    }
   },
   "source": [
    "## 15分钟学会网络爬虫。"
   ]
  },
  {
   "cell_type": "code",
   "execution_count": 1,
   "metadata": {
    "pycharm": {
     "name": "#%%\n"
    }
   },
   "outputs": [
    {
     "name": "stdout",
     "output_type": "stream",
     "text": [
      "Collecting package metadata (current_repodata.json): ...working... done\n",
      "Solving environment: ...working... \n",
      "Warning: >10 possible package resolutions (only showing differing packages):\n",
      "  - https://repo.anaconda.com/pkgs/main/noarch/noarch::conda-verify-3.4.2-py_1, https://repo.anaconda.com/pkgs/main/osx-64/osx-64::_ipyw_jlab_nb_ext_conf-0.1.0-py38_0, https://repo.anaconda.com/pkgs/main/osx-64/osx-64::conda-env-2.6.0-1, https://repo.anaconda.com/pkgs/main/osx-64/osx-64::navigator-updater-0.2.1-py38_0\n",
      "  - defaults/osx-64::conda-env-2.6.0-1, https://repo.anaconda.com/pkgs/main/noarch/noarch::conda-verify-3.4.2-py_1, https://repo.anaconda.com/pkgs/main/osx-64/osx-64::_ipyw_jlab_nb_ext_conf-0.1.0-py38_0, https://repo.anaconda.com/pkgs/main/osx-64/osx-64::navigator-updater-0.2.1-py38_0\n",
      "  - defaults/osx-64::_ipyw_jlab_nb_ext_conf-0.1.0-py38_0, https://repo.anaconda.com/pkgs/main/noarch/noarch::conda-verify-3.4.2-py_1, https://repo.anaconda.com/pkgs/main/osx-64/osx-64::conda-env-2.6.0-1, https://repo.anaconda.com/pkgs/main/osx-64/osx-64::navigator-updater-0.2.1-py38_0\n",
      "  - defaults/osx-64::_ipyw_jlab_nb_ext_conf-0.1.0-py38_0, defaults/osx-64::conda-env-2.6.0-1, https://repo.anaconda.com/pkgs/main/noarch/noarch::conda-verify-3.4.2-py_1, https://repo.anaconda.com/pkgs/main/osx-64/osx-64::navigator-updater-0.2.1-py38_0\n",
      "  - defaults/osx-64::_ipyw_jlab_nb_ext_conf-0.1.0-py38_0, defaults/osx-64::navigator-updater-0.2.1-py38_0, https://repo.anaconda.com/pkgs/main/noarch/noarch::conda-verify-3.4.2-py_1, https://repo.anaconda.com/pkgs/main/osx-64/osx-64::conda-env-2.6.0-1\n",
      "  - defaults/osx-64::_ipyw_jlab_nb_ext_conf-0.1.0-py38_0, defaults/osx-64::conda-env-2.6.0-1, defaults/osx-64::navigator-updater-0.2.1-py38_0, https://repo.anaconda.com/pkgs/main/noarch/noarch::conda-verify-3.4.2-py_1\n",
      "  - defaults/osx-64::navigator-updater-0.2.1-py38_0, https://repo.anaconda.com/pkgs/main/noarch/noarch::conda-verify-3.4.2-py_1, https://repo.anaconda.com/pkgs/main/osx-64/osx-64::_ipyw_jlab_nb_ext_conf-0.1.0-py38_0, https://repo.anaconda.com/pkgs/main/osx-64/osx-64::conda-env-2.6.0-1\n",
      "  - defaults/osx-64::conda-env-2.6.0-1, defaults/osx-64::navigator-updater-0.2.1-py38_0, https://repo.anaconda.com/pkgs/main/noarch/noarch::conda-verify-3.4.2-py_1, https://repo.anaconda.com/pkgs/main/osx-64/osx-64::_ipyw_jlab_nb_ext_conf-0.1.0-py38_0\n",
      "  - defaults/noarch::conda-verify-3.4.2-py_1, defaults/osx-64::navigator-updater-0.2.1-py38_0, https://repo.anaconda.com/pkgs/main/osx-64/osx-64::_ipyw_jlab_nb_ext_conf-0.1.0-py38_0, https://repo.anaconda.com/pkgs/main/osx-64/osx-64::conda-env-2.6.0-1\n",
      "  - defaults/noarch::conda-verify-3.4.2-py_1, https://repo.anaconda.com/pkgs/main/osx-64/osx-64::_ipyw_jlab_nb_ext_conf-0.1.0-py38_0, https://repo.anaconda.com/pkgs/main/osx-64/osx-64::conda-env-2.6.0-1, https://repo.anaconda.com/pkgs/main/osx-64/osx-64::navigator-updater-0.2.1-py38_0\n",
      "  ... and othersdone\n",
      "\n",
      "# All requested packages already installed.\n",
      "\n"
     ]
    }
   ],
   "source": [
    "%%bash\n",
    "conda install scrapy"
   ]
  },
  {
   "cell_type": "code",
   "execution_count": 21,
   "metadata": {
    "pycharm": {
     "name": "#%%\n"
    }
   },
   "outputs": [
    {
     "name": "stdout",
     "output_type": "stream",
     "text": [
      "New Scrapy project 'douban', using template directory '/opt/anaconda3/lib/python3.8/site-packages/scrapy/templates/project', created in:\n",
      "    /Users/Craftsman/IdeaProjects/python-class/01/douban\n",
      "\n",
      "You can start your first spider with:\n",
      "    cd douban\n",
      "    scrapy genspider example example.com\n"
     ]
    }
   ],
   "source": [
    "%%bash\n",
    "scrapy startproject douban"
   ]
  },
  {
   "cell_type": "code",
   "execution_count": 13,
   "metadata": {},
   "outputs": [
    {
     "name": "stdout",
     "output_type": "stream",
     "text": [
      "douban\n",
      "scrapy.cfg\n",
      "\n",
      "douban/douban:\n",
      "__init__.py\n",
      "items.py\n",
      "middlewares.py\n",
      "pipelines.py\n",
      "settings.py\n",
      "spiders\n",
      "\n",
      "douban/douban/spiders:\n",
      "__init__.py\n"
     ]
    }
   ],
   "source": [
    "%%bash\n",
    "ls -R douban"
   ]
  },
  {
   "cell_type": "code",
   "execution_count": 23,
   "metadata": {},
   "outputs": [],
   "source": [
    "%%bash\n",
    "cd douban"
   ]
  },
  {
   "cell_type": "code",
   "execution_count": 25,
   "metadata": {},
   "outputs": [
    {
     "name": "stdout",
     "output_type": "stream",
     "text": [
      "Created spider 'douban' using template 'basic' \n"
     ]
    }
   ],
   "source": [
    "%%bash\n",
    "scrapy genspider douban movie.douban.com"
   ]
  },
  {
   "cell_type": "code",
   "execution_count": null,
   "metadata": {},
   "outputs": [],
   "source": []
  }
 ],
 "metadata": {
  "kernelspec": {
   "display_name": "Python 3",
   "language": "python",
   "name": "python3"
  },
  "language_info": {
   "codemirror_mode": {
    "name": "ipython",
    "version": 3
   },
   "file_extension": ".py",
   "mimetype": "text/x-python",
   "name": "python",
   "nbconvert_exporter": "python",
   "pygments_lexer": "ipython3",
   "version": "3.8.3"
  }
 },
 "nbformat": 4,
 "nbformat_minor": 4
}

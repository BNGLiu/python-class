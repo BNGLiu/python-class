{
 "cells": [
  {
   "cell_type": "markdown",
   "metadata": {
    "pycharm": {
     "name": "#%% md\n"
    }
   },
   "source": [
    "## 15分钟学会使用别人写的爬虫"
   ]
  },
  {
   "cell_type": "markdown",
   "metadata": {
    "pycharm": {
     "name": "#%% md\n"
    }
   },
   "source": [
    "1. 安装anaconda。\n",
    "2. 新建一个你用来存放课程01代码的文件夹（如：D:\\python_projects\\01）。下载 [config.json](https://raw.githubusercontent.com/yuanxiaodu/python-class/main/01/weibo/config.json), [weibo.py](https://raw.githubusercontent.com/yuanxiaodu/python-class/main/01/weibo/weibo.py)。保存到刚才新建的文件夹下。\n",
    "3. 修改config.json代码中的user_id_list和since_date。\n",
    "4. 打开bash/powershell，进入目录，执行代码  \n",
    "% cd python_projects/01/weibo  \n",
    "% python3 weibo.py"
   ]
  },
  {
   "cell_type": "markdown",
   "metadata": {
    "pycharm": {
     "name": "#%% md\n"
    }
   },
   "source": [
    "## 15分钟学会自己写一个爬虫\n",
    "\n",
    "安装Scrapy"
   ]
  },
  {
   "cell_type": "code",
   "metadata": {
    "pycharm": {
     "name": "#%%\n"
    }
   },
   "source": [
    "%%bash\n",
    "pip install scrapy"
   ],
   "execution_count": 1,
   "outputs": [
    {
     "name": "stdout",
     "output_type": "stream",
     "text": [
      "Looking in indexes: http://mirrors.aliyun.com/pypi/simple\n",
      "Requirement already satisfied: scrapy in /opt/anaconda3/lib/python3.8/site-packages (2.4.0)\n",
      "Requirement already satisfied: queuelib>=1.4.2 in /opt/anaconda3/lib/python3.8/site-packages (from scrapy) (1.5.0)\n",
      "Requirement already satisfied: PyDispatcher>=2.0.5 in /opt/anaconda3/lib/python3.8/site-packages (from scrapy) (2.0.5)\n",
      "Requirement already satisfied: pyOpenSSL>=16.2.0 in /opt/anaconda3/lib/python3.8/site-packages (from scrapy) (19.1.0)\n",
      "Requirement already satisfied: itemadapter>=0.1.0 in /opt/anaconda3/lib/python3.8/site-packages (from scrapy) (0.2.0)\n",
      "Requirement already satisfied: lxml>=3.5.0; platform_python_implementation == \"CPython\" in /opt/anaconda3/lib/python3.8/site-packages (from scrapy) (4.5.2)\n",
      "Requirement already satisfied: itemloaders>=1.0.1 in /opt/anaconda3/lib/python3.8/site-packages (from scrapy) (1.0.3)\n",
      "Requirement already satisfied: cssselect>=0.9.1 in /opt/anaconda3/lib/python3.8/site-packages (from scrapy) (1.1.0)\n",
      "Requirement already satisfied: parsel>=1.5.0 in /opt/anaconda3/lib/python3.8/site-packages (from scrapy) (1.5.2)\n",
      "Requirement already satisfied: w3lib>=1.17.0 in /opt/anaconda3/lib/python3.8/site-packages (from scrapy) (1.21.0)\n",
      "Requirement already satisfied: Twisted>=17.9.0 in /opt/anaconda3/lib/python3.8/site-packages (from scrapy) (20.3.0)\n",
      "Requirement already satisfied: protego>=0.1.15 in /opt/anaconda3/lib/python3.8/site-packages (from scrapy) (0.1.16)\n",
      "Requirement already satisfied: service-identity>=16.0.0 in /opt/anaconda3/lib/python3.8/site-packages (from scrapy) (18.1.0)\n",
      "Requirement already satisfied: zope.interface>=4.1.3 in /opt/anaconda3/lib/python3.8/site-packages (from scrapy) (4.7.1)\n",
      "Requirement already satisfied: cryptography>=2.0 in /opt/anaconda3/lib/python3.8/site-packages (from scrapy) (2.9.2)\n",
      "Requirement already satisfied: six>=1.5.2 in /opt/anaconda3/lib/python3.8/site-packages (from pyOpenSSL>=16.2.0->scrapy) (1.15.0)\n",
      "Requirement already satisfied: jmespath>=0.9.5 in /opt/anaconda3/lib/python3.8/site-packages (from itemloaders>=1.0.1->scrapy) (0.10.0)\n",
      "Requirement already satisfied: Automat>=0.3.0 in /opt/anaconda3/lib/python3.8/site-packages (from Twisted>=17.9.0->scrapy) (20.2.0)\n",
      "Requirement already satisfied: PyHamcrest!=1.10.0,>=1.9.0 in /opt/anaconda3/lib/python3.8/site-packages (from Twisted>=17.9.0->scrapy) (2.0.2)\n",
      "Requirement already satisfied: attrs>=19.2.0 in /opt/anaconda3/lib/python3.8/site-packages (from Twisted>=17.9.0->scrapy) (19.3.0)\n",
      "Requirement already satisfied: incremental>=16.10.1 in /opt/anaconda3/lib/python3.8/site-packages (from Twisted>=17.9.0->scrapy) (17.5.0)\n",
      "Requirement already satisfied: constantly>=15.1 in /opt/anaconda3/lib/python3.8/site-packages (from Twisted>=17.9.0->scrapy) (15.1.0)\n",
      "Requirement already satisfied: hyperlink>=17.1.1 in /opt/anaconda3/lib/python3.8/site-packages (from Twisted>=17.9.0->scrapy) (20.0.1)\n",
      "Requirement already satisfied: pyasn1-modules in /opt/anaconda3/lib/python3.8/site-packages (from service-identity>=16.0.0->scrapy) (0.2.8)\n",
      "Requirement already satisfied: pyasn1 in /opt/anaconda3/lib/python3.8/site-packages (from service-identity>=16.0.0->scrapy) (0.4.8)\n",
      "Requirement already satisfied: setuptools in /opt/anaconda3/lib/python3.8/site-packages (from zope.interface>=4.1.3->scrapy) (49.2.0.post20200714)\n",
      "Requirement already satisfied: cffi!=1.11.3,>=1.8 in /opt/anaconda3/lib/python3.8/site-packages (from cryptography>=2.0->scrapy) (1.14.0)\n",
      "Requirement already satisfied: idna>=2.5 in /opt/anaconda3/lib/python3.8/site-packages (from hyperlink>=17.1.1->Twisted>=17.9.0->scrapy) (2.10)\n",
      "Requirement already satisfied: pycparser in /opt/anaconda3/lib/python3.8/site-packages (from cffi!=1.11.3,>=1.8->cryptography>=2.0->scrapy) (2.20)\n"
     ]
    }
   ]
  },
  {
   "cell_type": "markdown",
   "metadata": {
    "pycharm": {
     "name": "#%% md\n"
    }
   },
   "source": [
    "$ scrapy startproject douban"
   ]
  },
  {
   "cell_type": "markdown",
   "metadata": {
    "pycharm": {
     "name": "#%% md\n"
    }
   },
   "source": [
    "新建douban_spider.py"
   ]
  },
  {
   "cell_type": "markdown",
   "source": [
    "在settings.py中添加"
   ],
   "metadata": {
    "collapsed": false,
    "pycharm": {
     "name": "#%% md\n"
    }
   }
  },
  {
   "cell_type": "code",
   "execution_count": 6,
   "outputs": [],
   "source": [
    "FEED_EXPORT_ENCODING = 'utf-8'\n",
    "USER_AGENT = \"Mozilla/5.0 (Windows NT 10.0; Win64; x64; rv:77.0) Gecko/20100101 Firefox/77.0\""
   ],
   "metadata": {
    "collapsed": false,
    "pycharm": {
     "name": "#%%\n"
    }
   }
  },
  {
   "cell_type": "markdown",
   "source": [
    "$ scrapy crawl douban -o movies.csv"
   ],
   "metadata": {
    "collapsed": false,
    "pycharm": {
     "name": "#%% md\n"
    }
   }
  },
  {
   "cell_type": "code",
   "execution_count": null,
   "outputs": [],
   "source": [],
   "metadata": {
    "collapsed": false,
    "pycharm": {
     "name": "#%%\n"
    }
   }
  }
 ],
 "metadata": {
  "kernelspec": {
   "display_name": "Python 3",
   "language": "python",
   "name": "python3"
  },
  "language_info": {
   "codemirror_mode": {
    "name": "ipython",
    "version": 3
   },
   "file_extension": ".py",
   "mimetype": "text/x-python",
   "name": "python",
   "nbconvert_exporter": "python",
   "pygments_lexer": "ipython3",
   "version": "3.8.3"
  }
 },
 "nbformat": 4,
 "nbformat_minor": 4
}
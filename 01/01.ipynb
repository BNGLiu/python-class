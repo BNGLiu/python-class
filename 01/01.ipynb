{
 "cells": [
  {
   "cell_type": "markdown",
   "source": [
    "15分钟学会爬取微博数据。"
   ],
   "metadata": {
    "collapsed": false,
    "pycharm": {
     "name": "#%% md\n"
    }
   }
  },
  {
   "cell_type": "code",
   "source": [
    "%%bash\n",
    "conda install scrapy"
   ],
   "metadata": {
    "collapsed": false,
    "pycharm": {
     "name": "#%%\n"
    }
   },
   "execution_count": 4,
   "outputs": [
    {
     "name": "stdout",
     "output_type": "stream",
     "text": [
      "Collecting package metadata (current_repodata.json): ...working... done\n",
      "Solving environment: ...working... \n",
      "Warning: >10 possible package resolutions (only showing differing packages):\n",
      "  - https://repo.anaconda.com/pkgs/main/noarch/noarch::backports.tempfile-1.0-py_1, https://repo.anaconda.com/pkgs/main/noarch/noarch::backports.weakref-1.0.post1-py_1, https://repo.anaconda.com/pkgs/main/osx-64/osx-64::_ipyw_jlab_nb_ext_conf-0.1.0-py38_0, https://repo.anaconda.com/pkgs/main/osx-64/osx-64::conda-env-2.6.0-1\n",
      "  - defaults/osx-64::conda-env-2.6.0-1, https://repo.anaconda.com/pkgs/main/noarch/noarch::backports.tempfile-1.0-py_1, https://repo.anaconda.com/pkgs/main/noarch/noarch::backports.weakref-1.0.post1-py_1, https://repo.anaconda.com/pkgs/main/osx-64/osx-64::_ipyw_jlab_nb_ext_conf-0.1.0-py38_0\n",
      "  - defaults/noarch::backports.weakref-1.0.post1-py_1, https://repo.anaconda.com/pkgs/main/noarch/noarch::backports.tempfile-1.0-py_1, https://repo.anaconda.com/pkgs/main/osx-64/osx-64::_ipyw_jlab_nb_ext_conf-0.1.0-py38_0, https://repo.anaconda.com/pkgs/main/osx-64/osx-64::conda-env-2.6.0-1\n",
      "  - defaults/noarch::backports.weakref-1.0.post1-py_1, defaults/osx-64::conda-env-2.6.0-1, https://repo.anaconda.com/pkgs/main/noarch/noarch::backports.tempfile-1.0-py_1, https://repo.anaconda.com/pkgs/main/osx-64/osx-64::_ipyw_jlab_nb_ext_conf-0.1.0-py38_0\n",
      "  - defaults/noarch::backports.tempfile-1.0-py_1, defaults/noarch::backports.weakref-1.0.post1-py_1, https://repo.anaconda.com/pkgs/main/osx-64/osx-64::_ipyw_jlab_nb_ext_conf-0.1.0-py38_0, https://repo.anaconda.com/pkgs/main/osx-64/osx-64::conda-env-2.6.0-1\n",
      "  - defaults/noarch::backports.tempfile-1.0-py_1, defaults/noarch::backports.weakref-1.0.post1-py_1, defaults/osx-64::conda-env-2.6.0-1, https://repo.anaconda.com/pkgs/main/osx-64/osx-64::_ipyw_jlab_nb_ext_conf-0.1.0-py38_0\n",
      "  - defaults/noarch::backports.tempfile-1.0-py_1, https://repo.anaconda.com/pkgs/main/noarch/noarch::backports.weakref-1.0.post1-py_1, https://repo.anaconda.com/pkgs/main/osx-64/osx-64::_ipyw_jlab_nb_ext_conf-0.1.0-py38_0, https://repo.anaconda.com/pkgs/main/osx-64/osx-64::conda-env-2.6.0-1\n",
      "  - defaults/noarch::backports.tempfile-1.0-py_1, defaults/osx-64::conda-env-2.6.0-1, https://repo.anaconda.com/pkgs/main/noarch/noarch::backports.weakref-1.0.post1-py_1, https://repo.anaconda.com/pkgs/main/osx-64/osx-64::_ipyw_jlab_nb_ext_conf-0.1.0-py38_0\n",
      "  - defaults/noarch::backports.tempfile-1.0-py_1, defaults/osx-64::_ipyw_jlab_nb_ext_conf-0.1.0-py38_0, https://repo.anaconda.com/pkgs/main/noarch/noarch::backports.weakref-1.0.post1-py_1, https://repo.anaconda.com/pkgs/main/osx-64/osx-64::conda-env-2.6.0-1\n",
      "  - defaults/osx-64::_ipyw_jlab_nb_ext_conf-0.1.0-py38_0, https://repo.anaconda.com/pkgs/main/noarch/noarch::backports.tempfile-1.0-py_1, https://repo.anaconda.com/pkgs/main/noarch/noarch::backports.weakref-1.0.post1-py_1, https://repo.anaconda.com/pkgs/main/osx-64/osx-64::conda-env-2.6.0-1\n",
      "  ... and othersdone\n",
      "\n",
      "# All requested packages already installed.\n",
      "\n"
     ]
    }
   ]
  },
  {
   "cell_type": "code",
   "execution_count": 5,
   "outputs": [],
   "source": [
    "import scrapy\n",
    "\n",
    "\n",
    "class QuotesSpider(scrapy.Spider):\n",
    "    name = 'quotes'\n",
    "    start_urls = [\n",
    "        'http://quotes.toscrape.com/tag/humor/',\n",
    "    ]\n",
    "\n",
    "    def parse(self, response):\n",
    "        for quote in response.css('div.quote'):\n",
    "            yield {\n",
    "                'author': quote.xpath('span/small/text()').get(),\n",
    "                'text': quote.css('span.text::text').get(),\n",
    "            }\n",
    "\n",
    "        next_page = response.css('li.next a::attr(\"href\")').get()\n",
    "        if next_page is not None:\n",
    "            yield response.follow(next_page, self.parse)"
   ],
   "metadata": {
    "collapsed": false,
    "pycharm": {
     "name": "#%%\n"
    }
   }
  },
  {
   "cell_type": "code",
   "execution_count": null,
   "metadata": {},
   "outputs": [],
   "source": [
    "%%bash\n"
   ]
  }
 ],
 "metadata": {
  "kernelspec": {
   "display_name": "Python 3",
   "language": "python",
   "name": "python3"
  },
  "language_info": {
   "codemirror_mode": {
    "name": "ipython",
    "version": 3
   },
   "file_extension": ".py",
   "mimetype": "text/x-python",
   "name": "python",
   "nbconvert_exporter": "python",
   "pygments_lexer": "ipython3",
   "version": "3.8.3"
  }
 },
 "nbformat": 4,
 "nbformat_minor": 4
}
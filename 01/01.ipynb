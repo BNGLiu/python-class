{
 "cells": [
  {
   "cell_type": "markdown",
   "metadata": {
    "pycharm": {
     "name": "#%% md\n"
    }
   },
   "source": [
    "## 15分钟学会用别人写的爬虫代码。"
   ]
  },
  {
   "cell_type": "markdown",
   "metadata": {
    "pycharm": {
     "name": "#%%\n"
    }
   },
   "source": [
    "1. 安装anaconda。\n",
    "2. 新建一个你用来存放课程01代码的文件夹（如：D:\\python_projects\\01）。下载 [config.json](https://raw.githubusercontent.com/yuanxiaodu/python-class/main/01/weibo/config.json), [weibo.py](https://raw.githubusercontent.com/yuanxiaodu/python-class/main/01/weibo/weibo.py)。保存到刚才新建的文件夹下。\n",
    "3. 修改config.json代码中的user_id_list和since_date。\n",
    "4. 打开bash/powershell，进入目录，执行代码  \n",
    "% cd python_projects/01/weibo  \n",
    "% python3 weibo.py"
   ]
  },
  {
   "cell_type": "code",
   "execution_count": 21,
   "metadata": {
    "pycharm": {
     "name": "#%%\n"
    }
   },
   "outputs": [
    {
     "name": "stdout",
     "output_type": "stream",
     "text": [
      "New Scrapy project 'douban', using template directory '/opt/anaconda3/lib/python3.8/site-packages/scrapy/templates/project', created in:\n",
      "    /Users/Craftsman/IdeaProjects/python-class/01/douban\n",
      "\n",
      "You can start your first spider with:\n",
      "    cd douban\n",
      "    scrapy genspider example example.com\n"
     ]
    }
   ],
   "source": [
    "%%bash\n",
    "scrapy startproject douban"
   ]
  },
  {
   "cell_type": "code",
   "execution_count": 13,
   "metadata": {},
   "outputs": [
    {
     "name": "stdout",
     "output_type": "stream",
     "text": [
      "douban\n",
      "scrapy.cfg\n",
      "\n",
      "douban/douban:\n",
      "__init__.py\n",
      "items.py\n",
      "middlewares.py\n",
      "pipelines.py\n",
      "settings.py\n",
      "spiders\n",
      "\n",
      "douban/douban/spiders:\n",
      "__init__.py\n"
     ]
    }
   ],
   "source": [
    "%%bash\n",
    "ls -R douban"
   ]
  },
  {
   "cell_type": "code",
   "execution_count": 23,
   "metadata": {},
   "outputs": [],
   "source": [
    "%%bash\n",
    "cd douban"
   ]
  },
  {
   "cell_type": "code",
   "execution_count": 25,
   "metadata": {},
   "outputs": [
    {
     "name": "stdout",
     "output_type": "stream",
     "text": [
      "Created spider 'douban' using template 'basic' \n"
     ]
    }
   ],
   "source": [
    "%%bash\n",
    "scrapy genspider douban movie.douban.com"
   ]
  }
 ],
 "metadata": {
  "kernelspec": {
   "display_name": "Python 3",
   "language": "python",
   "name": "python3"
  },
  "language_info": {
   "codemirror_mode": {
    "name": "ipython",
    "version": 3
   },
   "file_extension": ".py",
   "mimetype": "text/x-python",
   "name": "python",
   "nbconvert_exporter": "python",
   "pygments_lexer": "ipython3",
   "version": "3.8.3"
  }
 },
 "nbformat": 4,
 "nbformat_minor": 4
}
